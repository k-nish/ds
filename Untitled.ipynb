{
 "cells": [
  {
   "cell_type": "markdown",
   "metadata": {},
   "source": [
    "# データベース(mysql)を使う\n",
    "\n",
    "データ入れるのにはmysql(mysqlとmariadbはほぼ全く同じものを意味する)にデータベース、テーブルを作る\n",
    "\n",
    "データベースはテーブルの集合\n",
    "\n",
    "あんまりうまく説明できないから適当にググって笑\n"
   ]
  },
  {
   "cell_type": "markdown",
   "metadata": {},
   "source": [
    "## 具体例\n",
    "'test'というデータベースに'table_test'というテーブルを作り、csvをデータベースに入れる\n",
    "\n",
    "## データベースの作り方\n",
    "\n",
    "```\n",
    "mysql -u root\n",
    "```\n",
    "\n",
    "\n",
    "でmariadbが開いたら\n",
    "\n",
    "```\n",
    "create database test;\n",
    "```\n",
    "これでtestというデータベースが作れる\n",
    "\n",
    "'table_test'というテーブルを作るには\n",
    "\n",
    "```\n",
    "create table table_test(\n",
    "id int(11),\n",
    "name varchar(31),\n",
    "number int(11))\n",
    "engine = myisam\n",
    "default charset = utf8;\n",
    "\n",
    "```\n",
    "\n",
    "これで\n",
    "\n",
    "|カラム名|型|\n",
    "|--|--|\n",
    "|id|int|\n",
    "|name|varchar|\n",
    "|number|int|\n",
    "\n",
    "のテーブルが作られる\n",
    "\n",
    "この型は入れる値によって設定する必要があって、「mysql　データ　型」とかでググればいろんな記事が出てくると思う\n",
    "\n",
    "## テーブルにcsvを入れる\n",
    "\n",
    "csvを入れる'test'テーブルに入れる構文は\n",
    "\n",
    "```\n",
    "LOAD DATA LOCAL INFILE 'ファイルのパス' INTO TABLE `test` FIELDS TERMINATED BY ',' OPTIONALLY ENCLOSED BY '\\\"' IGNORE 1 LINES;\n",
    "```\n",
    "\n",
    "これで最初の行を無視してデータを入れることができるはず"
   ]
  },
  {
   "cell_type": "markdown",
   "metadata": {},
   "source": [
    "# pandasを使う方法\n",
    "\n",
    "データベースを使わずにpandasというモジュールを使って扱うこともできる\n",
    "\n",
    "かなりメモリを食うからデータ数が多いと使い辛い(100万行とかなければ大丈夫)のと、stringを文字列に変換したものを新たにテーブル作って保存しとくとかはできない。\n",
    "\n",
    "pandasなら\n",
    "\n",
    "```\n",
    "pandas.read_csv('csvのパス')\n",
    "```\n",
    "でcsvをデータフレーム(多次元配列みたいなもの)に保存できる\n",
    "\n",
    "文字列を数値に変換する関数(pandas.get_dummies)とか実装されてる"
   ]
  },
  {
   "cell_type": "markdown",
   "metadata": {},
   "source": [
    "すごい大雑把に書いたから聞きたいことあればなんでも教えるよ"
   ]
  },
  {
   "cell_type": "code",
   "execution_count": null,
   "metadata": {
    "collapsed": true
   },
   "outputs": [],
   "source": []
  }
 ],
 "metadata": {
  "kernelspec": {
   "display_name": "Python 2",
   "language": "python",
   "name": "python2"
  },
  "language_info": {
   "codemirror_mode": {
    "name": "ipython",
    "version": 2
   },
   "file_extension": ".py",
   "mimetype": "text/x-python",
   "name": "python",
   "nbconvert_exporter": "python",
   "pygments_lexer": "ipython2",
   "version": "2.7.12"
  }
 },
 "nbformat": 4,
 "nbformat_minor": 0
}

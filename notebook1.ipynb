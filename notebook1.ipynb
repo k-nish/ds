{
 "cells": [
  {
   "cell_type": "markdown",
   "metadata": {},
   "source": [
    "# APIからDBに入れる"
   ]
  },
  {
   "cell_type": "markdown",
   "metadata": {
    "collapsed": true
   },
   "source": [
    "### APIで得られたデータ(ここではAngel List のデータ)をDB(MySQL)に入れる\n",
    "Angel ListのAPI documentは[ここ](https://angel.co/api)で、どのようにJSONが返ってくるかは[このページ](https://market.mashape.com/community/angellist)にもある"
   ]
  },
  {
   "cell_type": "markdown",
   "metadata": {},
   "source": [
    "### どこまでデータを入れるのか\n",
    "\n",
    "APIとは元データを手元のデータベースに入れるための技術\n",
    "従って元データを持っているサーバーと手元のサーバーは同じ情報を持っている方がいい\n",
    "\n",
    "<span style=\"color:red\">ルール1</span>:取れるデータはすべてデータベースに入れる"
   ]
  },
  {
   "cell_type": "markdown",
   "metadata": {},
   "source": [
    "### どのように入れるのか(DBのテーブルの型)\n",
    "\n",
    "Angel ListのGET /startups/:idで以下のようなデータがJSONの形で返ってくる"
   ]
  },
  {
   "cell_type": "markdown",
   "metadata": {},
   "source": [
    "```json:\n",
    "{\n",
    "  \"id\": 6702,\n",
    "  \"hidden\": false,\n",
    "  \"community_profile\": false,\n",
    "  \"name\": \"AngelList\",\n",
    "  \"angellist_url\": \"http://localhost:3000/angellist\",\n",
    "  \"logo_url\": \"https://s3.amazonaws.com/photos.angel.co/startups/i/6702-766d1...\",\n",
    "  \"thumb_url\": \"https://s3.amazonaws.com/photos.angel.co/startups/i/6702-766d1...\",\n",
    "  \"quality\": 10,\n",
    "  \"product_desc\": \"AngelList is a platform for startups to meet investors and talent.\",\n",
    "  \"high_concept\": \"A platform for startups\",\n",
    "  \"follower_count\": 2849,\n",
    "  \"company_url\": \"http://angel.co\",\n",
    "  \"created_at\": \"2011-03-18T00:24:29Z\",\n",
    "  \"updated_at\": \"2013-01-16T03:57:59Z\",\n",
    "  \"twitter_url\": \"http://twitter.com/angellist\",\n",
    "  \"blog_url\": \"http://blog.angel.co\",\n",
    "  \"video_url\": \"\",\n",
    "  \"markets\": [\n",
    "    {\n",
    "      \"id\": 448,\n",
    "      \"tag_type\": \"MarketTag\",\n",
    "      \"name\": \"startups\",\n",
    "      \"display_name\": \"Startups\",\n",
    "      \"angellist_url\": \"http://angel.co/startups-1\"\n",
    "    },\n",
    "    {\n",
    "      \"id\": 856,\n",
    "      \"tag_type\": \"MarketTag\",\n",
    "      \"name\": \"venture capital\",\n",
    "      \"display_name\": \"Venture Capital\",\n",
    "      \"angellist_url\": \"http://angel.co/venture-capital\"\n",
    "    }\n",
    "  ],\n",
    "  \"locations\": [\n",
    "    {\n",
    "      \"id\": 1692,\n",
    "      \"tag_type\": \"LocationTag\",\n",
    "      \"name\": \"san francisco\",\n",
    "      \"display_name\": \"San Francisco\",\n",
    "      \"angellist_url\": \"http://angel.co/san-francisco\"\n",
    "    }\n",
    "  ],\n",
    "  \"status\": {\n",
    "    \"message\": \"You're insane if you don't follow the AngelList Twitter...\",\n",
    "    \"created_at\": \"2011-08-07T00:56:25Z\"\n",
    "  },\n",
    "  \"screenshots\": [\n",
    "    {\n",
    "      \"thumb\": \"https://s3.amazonaws.com/.../009cff275fb96709c915c4d4-thumb.jpg\",\n",
    "      \"original\": \"https://s3.amazonaws.com/.../009cff275fb96709c915c4d4-original.jpg\"\n",
    "    }\n",
    "  ]\n",
    "}\n",
    "```"
   ]
  },
  {
   "cell_type": "markdown",
   "metadata": {},
   "source": [
    "<span style=\"color:red\">ルール2</span>: データサイズはできる限り小さくする\n",
    "    \n",
    "    0と1のような少ないデータ量で保存できるならそのようにしてデータ量が小さくなるようにする\n",
    "    \n",
    "<span style=\"color:red\">ルール3</span>: columnの数で迷ったらlongtext型を用いてで打ち込む\n",
    "    \n",
    "    上の例で\"matkets\"はタグの数が固定ではないのでデータを格納する場合にタグごとに入れることはできない。このように数が変わりやすかったり、\n",
    "    ある型に入れるのが難しかったりするときはlongtext型にして文字列として格納してしまおう"
   ]
  }
 ],
 "metadata": {
  "kernelspec": {
   "display_name": "Python 2",
   "language": "python",
   "name": "python2"
  },
  "language_info": {
   "codemirror_mode": {
    "name": "ipython",
    "version": 2
   },
   "file_extension": ".py",
   "mimetype": "text/x-python",
   "name": "python",
   "nbconvert_exporter": "python",
   "pygments_lexer": "ipython2",
   "version": "2.7.12"
  }
 },
 "nbformat": 4,
 "nbformat_minor": 0
}
